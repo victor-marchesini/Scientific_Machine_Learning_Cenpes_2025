{
 "cells": [
  {
   "cell_type": "markdown",
   "id": "81281c9c",
   "metadata": {},
   "source": [
    "# 1D heat conduction example\n",
    "Jean C. Ragusa\n",
    "\n",
    "Texas A&M University\n",
    "\n",
    "jean.ragusa@tamu.edu"
   ]
  },
  {
   "cell_type": "markdown",
   "id": "370019fa",
   "metadata": {},
   "source": [
    "# General problem definition\n",
    "Consider a 1D **nonlinear** heat conduction problem\n",
    "$$ \\rho C_p\\frac{\\partial T}{\\partial t} -\\frac{\\partial x}{\\partial x} k(x,t,T)\\frac{\\partial T}{\\partial x} = q(x,t)\n",
    "$$\n",
    "where the conductivity is a function of temperature. \n",
    "\n",
    "As an example, we can use\n",
    "$$k(x,t,T)=k^0(x,t) + k^1(x,t)T$$\n",
    "Hence, we are solving:\n",
    "$$ \\rho C_p\\frac{\\partial T}{\\partial t} -\\frac{\\partial x}{\\partial x}(k^0(x,t) + k^1(x,t) T) \\frac{\\partial T}{\\partial x} = q(x,t)\n",
    "$$\n",
    "**Boundary conditions**:\n",
    "- reflective at $x=0$: $\\quad \\left.\\tfrac{dT}{dx}\\right|_0 = 0$\n",
    "- imposed temperature (Dirichlet bc) at $x=L$: $\\quad T(L,t)=T_{bc}(t)$\n",
    "\n",
    "More generally, on the boundary, one may have :\n",
    "* a natural boundary condition $$ a(t) T + k\\partial_n T = c(t)$$\n",
    "* or a fixed, imposed value $$ T(t) = \\text{given}(t)$$\n",
    "\n",
    "For example, the convective heat transfer boundary value can be written as:\n",
    "\n",
    "$$\n",
    "-k\\partial_n T  = h(t)(T - T^{\\infty}(t))\n",
    "$$\n",
    "\n",
    "So $a(t)=h(t)$, the convective heat exchange coefficient, and $c(t)=h(t) T^\\infty(t)$, with $T^\\infty(t)$ the far-field cooling temperature.\n",
    "\n",
    "**Linear version** of the problem: set $k^1(x,t) = 0$"
   ]
  },
  {
   "cell_type": "markdown",
   "id": "4ff414ce",
   "metadata": {},
   "source": [
    "### load python modules"
   ]
  },
  {
   "cell_type": "code",
   "execution_count": 1,
   "id": "2505a9eb",
   "metadata": {},
   "outputs": [],
   "source": [
    "import numpy as np\n",
    "import matplotlib.pyplot as plt\n",
    "from scipy import sparse\n",
    "from scipy.sparse import linalg\n",
    "import time"
   ]
  },
  {
   "cell_type": "markdown",
   "id": "76decdf6",
   "metadata": {},
   "source": [
    "# 1-D slab mesh and material properties\n",
    "We give material properties \"per zone\" and then replicate them as many times as needed to assign them to a mesh cell (mesh resolution is a refinement of the material zone layout)."
   ]
  },
  {
   "cell_type": "code",
   "execution_count": 2,
   "id": "1dd4539f",
   "metadata": {},
   "outputs": [],
   "source": [
    "def create_slab_mesh(n_ref,zone_widths):\n",
    "    # input: \n",
    "    #    n_ref: integer (how many times each zone is to be refined)\n",
    "    #    zone_widths: array of zone widths\n",
    "    # output:\n",
    "    #    x: array of cell interface positions\n",
    "    #    dx: array of cell widths\n",
    "    #    cell2mat: given a cell index, this returns the material ID in that cell\n",
    "    \n",
    "    if len(zone_widths) != len(n_ref):\n",
    "        raise ValueError(\"dx and nref should have same length\")\n",
    "    \n",
    "    # compute cell widths\n",
    "    dx = np.repeat(zone_widths/n_ref, n_ref)\n",
    "    \n",
    "    # cell interfaces\n",
    "    x = np.zeros(len(dx)+1)\n",
    "    for i in range(len(dx)):\n",
    "        x[i+1] = x[i] + dx[i]\n",
    "        \n",
    "    # create cell2mat array\n",
    "    cell2mat = np.repeat( np.arange(len(zone_widths)), n_ref)\n",
    "    \n",
    "    # middle point\n",
    "    xm = 0.5 * (x[1:]+x[:-1])\n",
    "    \n",
    "    return x, xm, dx, cell2mat"
   ]
  },
  {
   "cell_type": "markdown",
   "id": "9f5fbf4b",
   "metadata": {},
   "source": [
    "### small demo: 2-zones, of width 0.4 and 0.1, and a refinement factor of 10 in zone-1 and 4 in zone-2"
   ]
  },
  {
   "cell_type": "code",
   "execution_count": 3,
   "id": "e6db3677",
   "metadata": {},
   "outputs": [
    {
     "ename": "TypeError",
     "evalue": "create_slab_mesh() got an unexpected keyword argument 'dx_'",
     "output_type": "error",
     "traceback": [
      "\u001b[1;31m---------------------------------------------------------------------------\u001b[0m",
      "\u001b[1;31mTypeError\u001b[0m                                 Traceback (most recent call last)",
      "\u001b[1;32mC:\\Users\\JEAN~1.RAG\\AppData\\Local\\Temp/ipykernel_31596/3765440520.py\u001b[0m in \u001b[0;36m<module>\u001b[1;34m\u001b[0m\n\u001b[1;32m----> 1\u001b[1;33m \u001b[0mx\u001b[0m\u001b[1;33m,\u001b[0m \u001b[0mxm\u001b[0m\u001b[1;33m,\u001b[0m \u001b[0mdx\u001b[0m\u001b[1;33m,\u001b[0m \u001b[0mcell2mat\u001b[0m \u001b[1;33m=\u001b[0m \u001b[0mcreate_slab_mesh\u001b[0m\u001b[1;33m(\u001b[0m\u001b[0mn_ref\u001b[0m\u001b[1;33m=\u001b[0m\u001b[0mnp\u001b[0m\u001b[1;33m.\u001b[0m\u001b[0marray\u001b[0m\u001b[1;33m(\u001b[0m\u001b[1;33m[\u001b[0m\u001b[1;36m10\u001b[0m\u001b[1;33m,\u001b[0m\u001b[1;36m4\u001b[0m\u001b[1;33m]\u001b[0m\u001b[1;33m,\u001b[0m\u001b[0mdtype\u001b[0m\u001b[1;33m=\u001b[0m\u001b[0mint\u001b[0m\u001b[1;33m)\u001b[0m\u001b[1;33m,\u001b[0m\u001b[0mdx_\u001b[0m\u001b[1;33m=\u001b[0m\u001b[0mnp\u001b[0m\u001b[1;33m.\u001b[0m\u001b[0marray\u001b[0m\u001b[1;33m(\u001b[0m\u001b[1;33m[\u001b[0m\u001b[1;36m0.4\u001b[0m\u001b[1;33m,\u001b[0m\u001b[1;36m0.1\u001b[0m\u001b[1;33m]\u001b[0m\u001b[1;33m)\u001b[0m\u001b[1;33m)\u001b[0m\u001b[1;33m\u001b[0m\u001b[1;33m\u001b[0m\u001b[0m\n\u001b[0m\u001b[0;32m      2\u001b[0m \u001b[1;33m\u001b[0m\u001b[0m\n\u001b[0;32m      3\u001b[0m \u001b[0mprint\u001b[0m\u001b[1;33m(\u001b[0m\u001b[1;34m'cell interfaces='\u001b[0m\u001b[1;33m,\u001b[0m\u001b[0mx\u001b[0m\u001b[1;33m)\u001b[0m\u001b[1;33m\u001b[0m\u001b[1;33m\u001b[0m\u001b[0m\n\u001b[0;32m      4\u001b[0m \u001b[0mprint\u001b[0m\u001b[1;33m(\u001b[0m\u001b[1;34m'\\ncell middles   ='\u001b[0m\u001b[1;33m,\u001b[0m\u001b[0mxm\u001b[0m\u001b[1;33m)\u001b[0m\u001b[1;33m\u001b[0m\u001b[1;33m\u001b[0m\u001b[0m\n\u001b[0;32m      5\u001b[0m \u001b[0mprint\u001b[0m\u001b[1;33m(\u001b[0m\u001b[1;34m'\\ncell widths    ='\u001b[0m\u001b[1;33m,\u001b[0m\u001b[0mdx\u001b[0m\u001b[1;33m)\u001b[0m\u001b[1;33m\u001b[0m\u001b[1;33m\u001b[0m\u001b[0m\n",
      "\u001b[1;31mTypeError\u001b[0m: create_slab_mesh() got an unexpected keyword argument 'dx_'"
     ]
    }
   ],
   "source": [
    "x, xm, dx, cell2mat = create_slab_mesh(n_ref=np.array([10,4],dtype=int),dx_=np.array([0.4,0.1]))\n",
    "\n",
    "print('cell interfaces=',x)\n",
    "print('\\ncell middles   =',xm)\n",
    "print('\\ncell widths    =',dx)\n",
    "# plot\n",
    "plt.figure()\n",
    "ax = plt.gca()\n",
    "ax.axes.yaxis.set_ticklabels([])\n",
    "ax.yaxis.set_ticks_position('none') \n",
    "plt.scatter(x, np.zeros(len(x)))\n",
    "plt.scatter(xm, np.zeros(len(xm)),marker='s')\n",
    "plt.title('location of cell interfaces (circles) and middle (squares)')\n",
    "plt.grid()\n",
    "plt.show()"
   ]
  },
  {
   "attachments": {
    "image.png": {
     "image/png": "[encoded data removed]"
    }
   },
   "cell_type": "markdown",
   "id": "3b2d0bf1",
   "metadata": {},
   "source": [
    "# Linear version of the problem: system matrix\n",
    "\n",
    "One way the discrete expression can be obtained is by integrating the governing equation for $x \\in [x_{i-1/2},x_{i+1/2}]$:\n",
    "\n",
    "$$\n",
    "\\int_{x_{i-1/2}}^{x_{i+1/2}}dx\\, \\left(\\rho C_p(x,t) \\frac{\\partial  T}{\\partial  t} -\\frac{\\partial }{\\partial x} k^0(x,t)\\frac{\\partial T}{\\partial x} = q(x,t) \\right)\n",
    "$$\n",
    "\n",
    "Thus, we obtain a **vertex-centered** simple finite difference:\n",
    "\n",
    "$$\n",
    "\\left(\\frac{\\rho C_p(t)_{i+1/2}\\Delta x_{i+1/2}}{2} + \\frac{\\rho C_p(t)_{i-1/2}\\Delta x_{i-1/2}}{2}\\right) \\frac{d T_i}{dt}\n",
    "-k^0_{i+1/2}\\frac{T_{i+1}-T_i}{\\Delta x_{i+1/2}}\n",
    "+\n",
    "k^0_{i-1/2}\\frac{T_i-T_{i-1}}{\\Delta x_{i-1/2}}\n",
    "=\n",
    "\\frac{q_{i+1/2}\\Delta x_{i+1/2}}{2} + \\frac{q_{i-1/2}\\Delta x_{i-1/2}}{2}\n",
    "$$\n",
    "\n",
    "where the full integer indices denote nodal (vertex) values and the half-integer indices denote cell values. $\\Delta x_{i+1/2}=x_{i+1}-x_i$.\n",
    "\n",
    "If we used backward Euler in time \n",
    "$$\n",
    "\\frac{d T_i}{dt} \\approx \\frac{T_i-T_i^n}{\\Delta t}\n",
    "$$\n",
    "where temperature without any superscript are evaluated at time $n+1$.\n",
    "\n",
    "\n",
    "![image.png](attachment:image.png)"
   ]
  },
  {
   "attachments": {
    "image-2.png": {
     "image/png": "[encoded data removed]"
    }
   },
   "cell_type": "markdown",
   "id": "39bafa79",
   "metadata": {},
   "source": [
    "Resulting linear system:\n",
    "$$ A T = b$$\n",
    "![image-2.png](attachment:image-2.png)"
   ]
  },
  {
   "cell_type": "markdown",
   "id": "3975c874",
   "metadata": {},
   "source": [
    "# build linear system matrix"
   ]
  },
  {
   "cell_type": "code",
   "execution_count": 5,
   "id": "bdc147f4",
   "metadata": {},
   "outputs": [],
   "source": [
    "def build_matrix_at_once(rhocp_arr, cond_arr, bc, xm, dx, mat2cell, t, dt):\n",
    "    # input: \n",
    "    #    cond_arr: conductivity array (length = number of material zones)\n",
    "    #    xm   : array of cell middle points (length = number of cells)\n",
    "    #    dx   : array of cell widths (length = number of cells)\n",
    "    #    cell2mat: given a cell index, this returns the material ID in that cell\n",
    "    # output:\n",
    "    #    K: matrix\n",
    "\n",
    "    # number of cells, points\n",
    "    n_cells = len(dx)\n",
    "    n_pts   = n_cells + 1\n",
    "    \n",
    "    # evaluate mat property per cell\n",
    "    cond_ = cond_arr[mat2cell]\n",
    "    rhocp_ = rhocp_arr[mat2cell]\n",
    "    cond = np.zeros(n_cells)\n",
    "    rhocp = np.zeros(n_cells)\n",
    "    for i,(kfunc,rhocpfunct,xmiddle) in enumerate(zip(cond_,rhocp_,xm)):\n",
    "        cond[i] = kfunc(xmiddle,t)\n",
    "        rhocp[i] = rhocpfunct(xmiddle,t)\n",
    "    \n",
    "    # matrix\n",
    "    K = sparse.lil_matrix((n_pts,n_pts))\n",
    "    for i in range(0,n_pts):\n",
    "        if i>0:\n",
    "            K[i,i-1] = -cond[i-1]/dx[i-1]\n",
    "            K[i,i  ] = cond[i-1]/dx[i-1] + rhocp[i-1]*dx[i-1]/2/dt\n",
    "        if i<n_pts-1:\n",
    "            K[i,i+1] = -cond[i  ]/dx[i  ]\n",
    "            K[i,i  ]+= cond[i]/dx[i] + rhocp[i]*dx[i]/2/dt\n",
    "\n",
    "    # apply left bc\n",
    "    if bc[\"left\"][\"type\"] == \"natural\":\n",
    "        K[0,0] += bc[\"left\"][\"value_a\"]\n",
    "    elif bc[\"left\"][\"type\"] == \"dirichlet\":\n",
    "        K[0,:2] = 0.\n",
    "        K[0,0]  = 1.\n",
    "    else:\n",
    "        raise ValueError(\"unknown bc type on left\")\n",
    "        \n",
    "    # apply right bc\n",
    "    if bc[\"right\"][\"type\"] == \"natural\":\n",
    "        K[-1,-1] += bc[\"right\"][\"value_a\"]\n",
    "    elif bc[\"right\"][\"type\"] == \"dirichlet\":\n",
    "        K[-1,-2:] = 0.\n",
    "        K[-1,-1]  = 1.\n",
    "    else:\n",
    "        raise ValueError(\"unknown bc type on right\")\n",
    "\n",
    "    return K"
   ]
  },
  {
   "cell_type": "markdown",
   "id": "3736ab98",
   "metadata": {},
   "source": [
    "# build linear system rhs"
   ]
  },
  {
   "cell_type": "code",
   "execution_count": 6,
   "id": "3d109ae5",
   "metadata": {},
   "outputs": [],
   "source": [
    "def build_rhs_at_once(rhocp_arr, qext_arr, bc, xm, dx, mat2cell, t, dt, T_prev):\n",
    "    # number of cells, points\n",
    "    n_cells = len(dx)\n",
    "    n_pts   = n_cells + 1\n",
    "\n",
    "    # evaluate src property per cell\n",
    "    qext_  = qext_arr[mat2cell]\n",
    "    rhocp_ = rhocp_arr[mat2cell]\n",
    "    qext  = np.zeros(n_cells)\n",
    "    rhocp = np.zeros(n_cells)\n",
    "    for i,(qfunc,rhocpfunct,xmiddle) in enumerate(zip(qext_,rhocp_,xm)):\n",
    "        qext[i]  = qfunc(xmiddle,t)\n",
    "        rhocp[i] = rhocpfunct(xmiddle,t)\n",
    "    \n",
    "    #  rhs\n",
    "    rhs = np.zeros(n_pts)\n",
    "    rhs[:-1] += qext*dx/2 + rhocp*dx/2/dt*T_prev[:-1]\n",
    "    rhs[1:]  += qext*dx/2 + rhocp*dx/2/dt*T_prev[1:]\n",
    "    \n",
    "    # apply left bc\n",
    "    if bc[\"left\"][\"type\"] == \"natural\":\n",
    "        rhs[0] += bc[\"left\"][\"value_c\"]\n",
    "    elif bc[\"left\"][\"type\"] == \"dirichlet\":\n",
    "        rhs[0] = bc[\"left\"][\"value\"]\n",
    "    else:\n",
    "        raise ValueError(\"unknown bc type on left\")\n",
    "        \n",
    "    # apply right bc\n",
    "    if bc[\"right\"][\"type\"] == \"natural\":\n",
    "        rhs[-1] += bc[\"right\"][\"value_c\"]\n",
    "    elif bc[\"right\"][\"type\"] == \"dirichlet\":\n",
    "        rhs[-1] = bc[\"right\"][\"value\"]\n",
    "    else:\n",
    "        raise ValueError(\"unknown bc type on right\")\n",
    "\n",
    "    return rhs"
   ]
  },
  {
   "cell_type": "markdown",
   "id": "8477cdeb",
   "metadata": {},
   "source": [
    "# routine that builds the whole linear system and solves for $T$"
   ]
  },
  {
   "cell_type": "code",
   "execution_count": 7,
   "id": "66db2267",
   "metadata": {},
   "outputs": [],
   "source": [
    "def solve_linear_td(rhocp_arr, cond_arr, qext_arr, bc, xm, dx, matcell, times, T_init):\n",
    "    ntimes = len(times)\n",
    "    npts = len(x)\n",
    "    T = np.zeros((npts, ntimes))\n",
    "                 \n",
    "    # make sure the initial guess satisfies the Dirichlet BC\n",
    "    if bc[\"left\"][\"type\"] == \"dirichlet\":\n",
    "        T_init[0] = bc[\"left\"][\"value\"]\n",
    "    if bc[\"right\"][\"type\"] == \"dirichlet\":\n",
    "        T_init[-1] = bc[\"right\"][\"value\"]\n",
    "        \n",
    "    T[:,0] = T_init[:]\n",
    "                 \n",
    "    for it in range(1,ntimes):\n",
    "        t = times[it]\n",
    "        dt = t - times[it-1]\n",
    "        \n",
    "        # build linear system\n",
    "        A = build_matrix_at_once(rhocp_arr, cond_arr, bc, xm, dx, mat2cell, t, dt)\n",
    "        rhs = build_rhs_at_once(rhocp_arr, qext_arr, bc, xm, dx, mat2cell, t, dt, T[:,it-1])\n",
    "\n",
    "        # solve linear system\n",
    "        T[:,it] = linalg.spsolve(A.tocsc(), rhs)\n",
    "    \n",
    "    return T"
   ]
  },
  {
   "cell_type": "markdown",
   "id": "b79d39d9",
   "metadata": {},
   "source": [
    "# problem definition and linear solve\n",
    "## 1 material, mat prop are piece-wise constant"
   ]
  },
  {
   "cell_type": "code",
   "execution_count": 8,
   "id": "4476c5f4",
   "metadata": {},
   "outputs": [
    {
     "name": "stdout",
     "output_type": "stream",
     "text": [
      "Max T value =  1359.7789173855672\n",
      "Min T value =  299.9999999999361\n"
     ]
    },
    {
     "data": {
      "image/png": "[encoded data removed]",
      "text/plain": [
       "<Figure size 432x288 with 1 Axes>"
      ]
     },
     "metadata": {
      "needs_background": "light"
     },
     "output_type": "display_data"
    }
   ],
   "source": [
    "# rho-cp functions per zone\n",
    "rhocp_arr = []\n",
    "rhocp_arr.append( lambda x,t: 2.0 + 0.*x + 0.*t )\n",
    "rhocp_arr = np.asarray(rhocp_arr)\n",
    "\n",
    "# conductivity functions per zone\n",
    "cond_arr = []\n",
    "cond_arr.append( lambda x,t: (2.0 + 0.*x)*(t<2) + (4.0 + 0.*x)*(t>=2) )\n",
    "cond_arr = np.asarray(cond_arr)\n",
    "\n",
    "# external volumetric heat source functions per zone\n",
    "qext_arr = []\n",
    "qext_arr.append( lambda x,t: (350.0 + 0.*x)*(t<1) + (700.0 + 0.*x)*(t>=1) )\n",
    "qext_arr = np.asarray(qext_arr)\n",
    "\n",
    "# geometry\n",
    "width   = np.array([ 5.])\n",
    "n_ref = np.array([100], dtype=int)\n",
    "\n",
    "x, xm, dx, mat2cell = create_slab_mesh(n_ref, width)\n",
    "\n",
    "# time\n",
    "Tend=4\n",
    "ntimes=10\n",
    "times = np.linspace(0,Tend,ntimes)\n",
    "\n",
    "# boundary conditions\n",
    "bc = {}\n",
    "T_dir = 300.\n",
    "bc_dir = {\"type\": \"dirichlet\", \"value\": T_dir}\n",
    "bc_sym = {\"type\": \"natural\"  , \"value_a\": 0., \"value_c\": 0.}\n",
    "\n",
    "bc[\"left\"]  = bc_dir\n",
    "bc[\"right\"] = bc_sym\n",
    "\n",
    "# solve\n",
    "# T_init = np.zeros(len(x))\n",
    "T_init = np.ones(len(x)) * T_dir\n",
    "T_lin = solve_linear_td(rhocp_arr, cond_arr, qext_arr, bc, xm, dx, mat2cell, times, T_init)\n",
    "print('Max T value = ',np.max(T_lin))\n",
    "print('Min T value = ',np.min(T_lin))\n",
    "\n",
    "plt.figure()\n",
    "for it in range(ntimes):\n",
    "    plt.plot(x,T_lin[:,it],'r', label='num')\n",
    "plt.xlabel('x')\n",
    "plt.ylabel('T')\n",
    "plt.title('Temperature vs. position (linear problem)')\n",
    "plt.grid(True)"
   ]
  },
  {
   "cell_type": "markdown",
   "id": "772aaf5a",
   "metadata": {},
   "source": [
    "## 2 materials, mat prop are piece-wise constant\n",
    "Linear heat conduction\n",
    "$$ -\\frac{d}{dx} k^0(x)\\frac{dT}{dx} = q(x) $$\n",
    "\n",
    "\n",
    "| Zone ID | $x$   | $k^0$ | $q$ |\n",
    "| :---    | :---: | ---   | --- |\n",
    "| I  | \\begin{equation}x \\in [0.0, 5.0]\\end{equation} | 2.0  |  350. |  \n",
    "| II | \\begin{equation}x \\in [5.0, 8.0]\\end{equation} | 5.0  |   50. | "
   ]
  },
  {
   "cell_type": "code",
   "execution_count": 9,
   "id": "d7e633ad",
   "metadata": {},
   "outputs": [
    {
     "name": "stdout",
     "output_type": "stream",
     "text": [
      "Max T value =  1038.9948499479085\n",
      "Min T value =  299.9999999999505\n"
     ]
    },
    {
     "data": {
      "image/png": "[encoded data removed]",
      "text/plain": [
       "<Figure size 432x288 with 1 Axes>"
      ]
     },
     "metadata": {
      "needs_background": "light"
     },
     "output_type": "display_data"
    }
   ],
   "source": [
    "# rho-cp functions per zone\n",
    "rhocp_arr = []\n",
    "rhocp_arr.append( lambda x,t: 2.0 + 0.*x + 0.*t )\n",
    "rhocp_arr.append( lambda x,t: 3.0 + 0.*x + 0.*t )\n",
    "rhocp_arr = np.asarray(rhocp_arr)\n",
    "\n",
    "# conductivity functions per zone\n",
    "cond_arr = []\n",
    "cond_arr.append( lambda x,t: (2.0 + 0.*x)*(t<2) + (4.0 + 0.*x)*(t>=2) )\n",
    "cond_arr.append( lambda x,t: (5.0 + 0.*x)*(t<2) + (1.0 + 0.*x)*(t>=2) )\n",
    "cond_arr = np.asarray(cond_arr)\n",
    "\n",
    "# external volumetric heat source functions per zone\n",
    "qext_arr = []\n",
    "qext_arr.append( lambda x,t: (350.0 + 0.*x)*(t<1) + (0.0 + 0.*x)*(t>=1) )\n",
    "qext_arr.append( lambda x,t: (0.0 + 0.*x)*(t<1) + (700.0 + 0.*x)*(t>=1) )\n",
    "qext_arr = np.asarray(qext_arr)\n",
    "\n",
    "# geometry\n",
    "width   = np.array([ 5., 3.])\n",
    "n_ref = np.array([100, 50], dtype=int)\n",
    "\n",
    "x, xm, dx, mat2cell = create_slab_mesh(n_ref, width)\n",
    "\n",
    "# time\n",
    "Tend=4\n",
    "ntimes=20\n",
    "times = np.linspace(0,Tend,ntimes)\n",
    "\n",
    "# boundary conditions\n",
    "bc = {}\n",
    "T_dir = 300.\n",
    "bc_dir = {\"type\": \"dirichlet\", \"value\": T_dir}\n",
    "bc_sym = {\"type\": \"natural\"  , \"value_a\": 0., \"value_c\": 0.}\n",
    "\n",
    "bc[\"left\"]  = bc_dir\n",
    "bc[\"right\"] = bc_sym\n",
    "\n",
    "# solve\n",
    "T_init = np.ones(len(x)) * T_dir\n",
    "T_lin = solve_linear_td(rhocp_arr, cond_arr, qext_arr, bc, xm, dx, mat2cell, times, T_init)\n",
    "print('Max T value = ',np.max(T_lin))\n",
    "print('Min T value = ',np.min(T_lin))\n",
    "\n",
    "plt.figure()\n",
    "for it in range(ntimes):\n",
    "    plt.plot(x,T_lin[:,it],'r', label='num')\n",
    "plt.xlabel('x')\n",
    "plt.ylabel('T')\n",
    "plt.title('Temperature vs. position (linear problem)')\n",
    "plt.grid(True)"
   ]
  },
  {
   "cell_type": "code",
   "execution_count": null,
   "id": "9a15cd2f",
   "metadata": {},
   "outputs": [],
   "source": []
  }
 ],
 "metadata": {
  "kernelspec": {
   "display_name": "Python 3 (ipykernel)",
   "language": "python",
   "name": "python3"
  },
  "language_info": {
   "codemirror_mode": {
    "name": "ipython",
    "version": 3
   },
   "file_extension": ".py",
   "mimetype": "text/x-python",
   "name": "python",
   "nbconvert_exporter": "python",
   "pygments_lexer": "ipython3",
   "version": "3.9.13"
  }
 },
 "nbformat": 4,
 "nbformat_minor": 5
}
